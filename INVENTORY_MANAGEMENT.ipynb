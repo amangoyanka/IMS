{
  "nbformat": 4,
  "nbformat_minor": 0,
  "metadata": {
    "colab": {
      "name": "INVENTORY_MANAGEMENT.ipynb",
      "provenance": []
    },
    "kernelspec": {
      "name": "python3",
      "display_name": "Python 3"
    },
    "language_info": {
      "name": "python"
    }
  },
  "cells": [
    {
      "cell_type": "code",
      "metadata": {
        "id": "2OHg8welsL3v"
      },
      "source": [
        "Data = {\"1001\": {\"Name\": \"Bulb\", \"Price\": 60.0, \"quantity\": 25, \"category\": \"Electronics\", \"discount\": 2},\n",
        "       \"1002\": {\"Name\": \"Tube Light\", \"Price\": 45.0, \"quantity\": 25, \"category\": \"Electronics\", \"discount\": 4}, \n",
        "       \"1003\": {\"Name\": \"Wire\", \"Price\": 30.0, \"quantity\": 25, \"category\": \"Electrical\", \"discount\": 3},\n",
        "       \"1004\": {\"Name\": \"Iron\", \"Price\": 550.0, \"quantity\": 25, \"category\": \"Electrical\", \"discount\": 10},\n",
        "       \"1005\": {\"Name\": \"Blender\", \"Price\": 749.0, \"quantity\": 15, \"category\": \"Electronics\", \"discount\": 13}, \n",
        "       \"1006\": {\"Name\": \"Toster\", \"Price\": 299.0, \"quantity\": 25, \"category\": \"Electronics\", \"discount\": 20}, \n",
        "       \"1007\": {\"Name\": \"Torch\", \"Price\": 50.0, \"quantity\": 25, \"category\": \"Electronics\", \"discount\": 5}, \n",
        "       \"1008\": {\"Name\": \"Kettle\", \"Price\": 679.0, \"quantity\": 25, \"category\": \"Electronics\", \"discount\": 15}, \n",
        "       \"1009\": {\"Name\": \"Stove\", \"Price\": 999.0, \"quantity\": 25, \"category\": \"Electronics\", \"discount\": 25}, \n",
        "       \"1010\": {\"Name\": \"Swicth\", \"Price\": 49.0, \"quantity\": 50, \"category\": \"Electrical\", \"discount\": 5},\n",
        "       \"1011\": {\"Name\": \"Biscuit\", \"Price\": 10.0, \"quantity\": 25, \"category\": \"Eatables\", \"discount\": 4},\n",
        "       \"1012\": {\"Name\": \"Oil\", \"Price\": 149.0, \"quantity\": 48, \"category\": \"Eatables\", \"discount\": 10}, \n",
        "       \"1013\": {\"Name\": \"5-Star\", \"Price\": 10.0, \"quantity\": 40, \"category\": \"Chocolate\", \"discount\": 2},\n",
        "       \"1014\": {\"Name\": \"Mixture\", \"Price\": 89.0, \"quantity\": 35, \"category\": \"Eatables\", \"discount\": 12},\n",
        "       \"1015\": {\"Name\": \"Comb\", \"Price\": 29.0, \"quantity\": 25, \"category\": \"Cosmetic\", \"discount\": 0},\n",
        "       \"1016\": {\"Name\": \"Hair oil\", \"Price\": 79.0, \"quantity\": 30, \"category\": \"Cosmetic\", \"discount\": 10},\n",
        "       \"1017\": {\"Name\": \"Face Wash\", \"Price\": 99.0, \"quantity\": 25, \"category\": \"Cosmetic\", \"discount\": 9},\n",
        "       \"1018\": {\"Name\": \"Scrub\", \"Price\": 59.0, \"quantity\": 20, \"category\": \"Cosmetic\", \"discount\": 14},\n",
        "       \"1019\": {\"Name\": \"Lotion\", \"Price\": 110.0, \"quantity\": 30, \"category\": \"Cosmetic\", \"discount\": 18},\n",
        "       \"1020\": {\"Name\": \"Rice\", \"Price\": 80.0, \"quantity\": 34, \"category\": \"Eatables\", \"discount\": 10},\n",
        "       \"1021\": {\"Name\": \"Fruits\", \"Price\": 150.0, \"quantity\": 40, \"category\": \"Eatables\", \"discount\": 15},\n",
        "       \"1022\": {\"Name\": \"Stationary\", \"Price\": 260.0, \"quantity\": 25, \"category\": \"Education\", \"discount\": 15},\n",
        "       \"1023\": {\"Name\": \"Milk\", \"Price\": 40.0, \"quantity\": 39, \"category\": \"Drinks\", \"discount\": 0},\n",
        "       \"1024\": {\"Name\": \"CocaCola\", \"Price\": 99.0, \"quantity\": 30, \"category\": \"Drinks\", \"discount\": 5 },\n",
        "       \"1025\": {\"Name\": \"Sprits\", \"Price\": 89.0, \"quantity\": 15, \"category\": \"Drinks\", \"discount\": 7},\n",
        "       \"1026\": {\"Name\": \"Alcohol\", \"Price\": 120.0, \"quantity\": 49, \"category\": \"Drinks\", \"discount\": 25},\n",
        "       \"1027\": {\"Name\": \"Vegetables\", \"Price\": 99.0, \"quantity\": 36, \"category\": \"Eatables\", \"discount\": 10},\n",
        "       \"1028\": {\"Name\": \"Tea\", \"Price\": 40.0, \"quantity\": 40, \"category\": \"Eatables\", \"discount\": 9},\n",
        "       \"1029\": {\"Name\": \"Books\", \"Price\": 199.0, \"quantity\": 5, \"category\": \"Education\", \"discount\": 24},\n",
        "       \"1030\": {\"Name\": \"Coffee\", \"Price\": 69.0, \"quantity\": 10, \"category\": \"Drinks\", \"discount\": 5}}"
      ],
      "execution_count": 3,
      "outputs": []
    },
    {
      "cell_type": "code",
      "metadata": {
        "id": "B8KkzyGX6V5g"
      },
      "source": [
        "import json\n",
        "j = json.dumps(Data)\n",
        "\n",
        "fd = open(\"Data.json\",'w')\n",
        "\n",
        "fd.write(j)\n",
        "\n",
        "fd.close()"
      ],
      "execution_count": 5,
      "outputs": []
    },
    {
      "cell_type": "code",
      "metadata": {
        "id": "MqJL0SuJ6rcp"
      },
      "source": [
        "fd = open(\"Data.json\", 'r')\n",
        "t = fd.read()\n",
        "fd.close()"
      ],
      "execution_count": 6,
      "outputs": []
    },
    {
      "cell_type": "code",
      "metadata": {
        "colab": {
          "base_uri": "https://localhost:8080/"
        },
        "id": "Dr-VSZNXsW_z",
        "outputId": "265c4d97-d3b1-42c5-987e-084955768283"
      },
      "source": [
        "Data['1001'][\"Price\"] = 200\n",
        "print(Data['1001'][\"Price\"])"
      ],
      "execution_count": 7,
      "outputs": [
        {
          "output_type": "stream",
          "name": "stdout",
          "text": [
            "200\n"
          ]
        }
      ]
    },
    {
      "cell_type": "code",
      "metadata": {
        "colab": {
          "base_uri": "https://localhost:8080/"
        },
        "id": "fUmOf8fOsgJ6",
        "outputId": "2912b957-9fe8-4922-e11b-03906d6ef831"
      },
      "source": [
        "import json\n",
        "fd = open(\"tdx.txt\",'r')\n",
        "\n",
        "t = fd.read()\n",
        "\n",
        "fd.close()\n",
        "Data = json.loads(t)\n",
        "Data"
      ],
      "execution_count": 9,
      "outputs": [
        {
          "output_type": "execute_result",
          "data": {
            "text/plain": [
              "{'1001': {'Name': 'Bulb',\n",
              "  'Price': 60.0,\n",
              "  'category': 'Electronics',\n",
              "  'discount': 2,\n",
              "  'quantity': 25},\n",
              " '1002': {'Name': 'Tube Light',\n",
              "  'Price': 45.0,\n",
              "  'category': 'Electronics',\n",
              "  'discount': 4,\n",
              "  'quantity': 25},\n",
              " '1003': {'Name': 'Wire',\n",
              "  'Price': 30.0,\n",
              "  'category': 'Electrical',\n",
              "  'discount': 3,\n",
              "  'quantity': 25},\n",
              " '1004': {'Name': 'Iron',\n",
              "  'Price': 550.0,\n",
              "  'category': 'Electrical',\n",
              "  'discount': 10,\n",
              "  'quantity': 25},\n",
              " '1005': {'Name': 'Blender',\n",
              "  'Price': 749.0,\n",
              "  'category': 'Electronics',\n",
              "  'discount': 13,\n",
              "  'quantity': 15},\n",
              " '1006': {'Name': 'Toster',\n",
              "  'Price': 299.0,\n",
              "  'category': 'Electronics',\n",
              "  'discount': 20,\n",
              "  'quantity': 25},\n",
              " '1007': {'Name': 'Torch',\n",
              "  'Price': 50.0,\n",
              "  'category': 'Electronics',\n",
              "  'discount': 5,\n",
              "  'quantity': 25},\n",
              " '1008': {'Name': 'Kettle',\n",
              "  'Price': 679.0,\n",
              "  'category': 'Electronics',\n",
              "  'discount': 15,\n",
              "  'quantity': 25},\n",
              " '1009': {'Name': 'Stove',\n",
              "  'Price': 999.0,\n",
              "  'category': 'Electronics',\n",
              "  'discount': 25,\n",
              "  'quantity': 25},\n",
              " '1010': {'Name': 'Swicth',\n",
              "  'Price': 49.0,\n",
              "  'category': 'Electrical',\n",
              "  'discount': 5,\n",
              "  'quantity': 50},\n",
              " '1011': {'Name': 'Biscuit',\n",
              "  'Price': 10.0,\n",
              "  'category': 'Eatables',\n",
              "  'discount': 4,\n",
              "  'quantity': 25},\n",
              " '1012': {'Name': 'Oil',\n",
              "  'Price': 149.0,\n",
              "  'category': 'Eatables',\n",
              "  'discount': 10,\n",
              "  'quantity': 48},\n",
              " '1013': {'Name': '5-Star',\n",
              "  'Price': 10.0,\n",
              "  'category': 'Chocolate',\n",
              "  'discount': 2,\n",
              "  'quantity': 40},\n",
              " '1014': {'Name': 'Mixture',\n",
              "  'Price': 89.0,\n",
              "  'category': 'Eatables',\n",
              "  'discount': 12,\n",
              "  'quantity': 35},\n",
              " '1015': {'Name': 'Comb',\n",
              "  'Price': 29.0,\n",
              "  'category': 'Cosmetic',\n",
              "  'discount': 0,\n",
              "  'quantity': 25},\n",
              " '1016': {'Name': 'Hair oil',\n",
              "  'Price': 79.0,\n",
              "  'category': 'Cosmetic',\n",
              "  'discount': 10,\n",
              "  'quantity': 30},\n",
              " '1017': {'Name': 'Face Wash',\n",
              "  'Price': 99.0,\n",
              "  'category': 'Cosmetic',\n",
              "  'discount': 9,\n",
              "  'quantity': 25},\n",
              " '1018': {'Name': 'Scrub',\n",
              "  'Price': 59.0,\n",
              "  'category': 'Cosmetic',\n",
              "  'discount': 14,\n",
              "  'quantity': 20},\n",
              " '1019': {'Name': 'Lotion',\n",
              "  'Price': 110.0,\n",
              "  'category': 'Cosmetic',\n",
              "  'discount': 18,\n",
              "  'quantity': 30},\n",
              " '1020': {'Name': 'Rice',\n",
              "  'Price': 80.0,\n",
              "  'category': 'Eatables',\n",
              "  'discount': 10,\n",
              "  'quantity': 34},\n",
              " '1021': {'Name': 'Fruits',\n",
              "  'Price': 150.0,\n",
              "  'category': 'Eatables',\n",
              "  'discount': 15,\n",
              "  'quantity': 40},\n",
              " '1022': {'Name': 'Stationary',\n",
              "  'Price': 260.0,\n",
              "  'category': 'Education',\n",
              "  'discount': 15,\n",
              "  'quantity': 25},\n",
              " '1023': {'Name': 'Milk',\n",
              "  'Price': 40.0,\n",
              "  'category': 'Drinks',\n",
              "  'discount': 0,\n",
              "  'quantity': 39},\n",
              " '1024': {'Name': 'CocaCola',\n",
              "  'Price': 99.0,\n",
              "  'category': 'Drinks',\n",
              "  'discount': 5,\n",
              "  'quantity': 30},\n",
              " '1025': {'Name': 'Sprits',\n",
              "  'Price': 89.0,\n",
              "  'category': 'Drinks',\n",
              "  'discount': 7,\n",
              "  'quantity': 15},\n",
              " '1026': {'Name': 'Alcohol',\n",
              "  'Price': 120.0,\n",
              "  'category': 'Drinks',\n",
              "  'discount': 25,\n",
              "  'quantity': 49},\n",
              " '1027': {'Name': 'Vegetables',\n",
              "  'Price': 99.0,\n",
              "  'category': 'Eatables',\n",
              "  'discount': 10,\n",
              "  'quantity': 36},\n",
              " '1028': {'Name': 'Tea',\n",
              "  'Price': 40.0,\n",
              "  'category': 'Eatables',\n",
              "  'discount': 9,\n",
              "  'quantity': 40},\n",
              " '1029': {'Name': 'Books',\n",
              "  'Price': 199.0,\n",
              "  'category': 'Education',\n",
              "  'discount': 24,\n",
              "  'quantity': 5},\n",
              " '1030': {'Name': 'Coffee',\n",
              "  'Price': 69.0,\n",
              "  'category': 'Drinks',\n",
              "  'discount': 5,\n",
              "  'quantity': 10}}"
            ]
          },
          "metadata": {},
          "execution_count": 9
        }
      ]
    },
    {
      "cell_type": "code",
      "metadata": {
        "colab": {
          "base_uri": "https://localhost:8080/"
        },
        "id": "ABSqLZi_tFtB",
        "outputId": "4f752731-3901-4459-b45f-0f39ac1a5961"
      },
      "source": [
        "choice = int(input(\"Enter your option :\"))\n",
        "if choice == 1:\n",
        "  print('**********************************')\n",
        "  print(\"Items available in Your_Market\")\n",
        "  \n",
        "  print('**********************************')\n",
        "  \n",
        "  print('Enter the Item_Id and Quantity of item to purchase:')\n",
        "  pur={}\n",
        "  for i in range (0,5):\n",
        "    n=input()\n",
        "    m=n.split(' ')\n",
        "    pur[m[0]] = int(m[1])\n",
        "\n",
        "\n",
        "\n",
        "if choice == 2:\n",
        "  print(\"Buy the items of your choice\")\n",
        "\n",
        "  amount=0\n",
        "  for i in pur:    \n",
        "    if(i in Data.keys()):\n",
        "        print('You ordered {} {}'.format(pur[i],Data[i]['Name']))\n",
        "        print('Cost {} '.format(pur[i]*Data[i]['Price']))\n",
        "        amount+=pur[i]*Data[i]['Price']\n",
        "  print('Total bill : ',amount)\n",
        "\n",
        "  total={}\n",
        "  s=1\n",
        "  for i in pur:\n",
        "    if(i in Data.keys()):\n",
        "        sys={}\n",
        "        sys['item'] = Data[i]['Name']\n",
        "        sys['quantity'] = pur[i]\n",
        "        sys['Price'] = Data[i]['Price']\n",
        "        sys['SP'] = Data[i]['Price']*(1.0 - Data[i]['discount']/100.0)\n",
        "        sys['total'] = sys['SP']*pur[i]\n",
        "        total[s] = sys\n",
        "        s+=1\n",
        "  print(total)\n",
        "if choice == 3 :\n",
        "  print(\"Exit\")"
      ],
      "execution_count": 18,
      "outputs": [
        {
          "output_type": "stream",
          "name": "stdout",
          "text": [
            "Enter your option :2\n",
            "Buy the items of your choice\n",
            "You ordered 10 Torch\n",
            "Cost 500.0 \n",
            "You ordered 9 Sprits\n",
            "Cost 801.0 \n",
            "You ordered 7 Comb\n",
            "Cost 203.0 \n",
            "You ordered 8 Coffee\n",
            "Cost 552.0 \n",
            "You ordered 2 Stove\n",
            "Cost 1998.0 \n",
            "Total bill :  4054.0\n",
            "{1: {'item': 'Torch', 'quantity': 10, 'Price': 50.0, 'SP': 47.5, 'total': 475.0}, 2: {'item': 'Sprits', 'quantity': 9, 'Price': 89.0, 'SP': 82.77, 'total': 744.93}, 3: {'item': 'Comb', 'quantity': 7, 'Price': 29.0, 'SP': 29.0, 'total': 203.0}, 4: {'item': 'Coffee', 'quantity': 8, 'Price': 69.0, 'SP': 65.55, 'total': 524.4}, 5: {'item': 'Stove', 'quantity': 2, 'Price': 999.0, 'SP': 749.25, 'total': 1498.5}}\n"
          ]
        }
      ]
    },
    {
      "cell_type": "code",
      "metadata": {
        "colab": {
          "base_uri": "https://localhost:8080/"
        },
        "id": "yhrK3wfKtNSJ",
        "outputId": "28c3da53-83b7-48a2-933e-7d4741f747c8"
      },
      "source": [
        "amount=0\n",
        "for i in pur:    \n",
        "  if(i in Data.keys()):\n",
        "    print('You Have Ordered:- {} {}'.format(pur[i],Data[i]['Name']))\n",
        "    print('Cost {} '.format(pur[i]*Data[i]['Price']))\n",
        "    amount+=pur[i]*Data[i]['Price']\n",
        "print('Total billing Amount is:- ',amount)"
      ],
      "execution_count": 14,
      "outputs": [
        {
          "output_type": "stream",
          "name": "stdout",
          "text": [
            "You Have Ordered:- 10 Torch\n",
            "Cost 500.0 \n",
            "You Have Ordered:- 9 Sprits\n",
            "Cost 801.0 \n",
            "You Have Ordered:- 7 Comb\n",
            "Cost 203.0 \n",
            "You Have Ordered:- 8 Coffee\n",
            "Cost 552.0 \n",
            "You Have Ordered:- 2 Stove\n",
            "Cost 1998.0 \n",
            "Total billing Amount is:-  4054.0\n"
          ]
        }
      ]
    },
    {
      "cell_type": "code",
      "metadata": {
        "colab": {
          "base_uri": "https://localhost:8080/"
        },
        "id": "vYux2m_MtoUm",
        "outputId": "242f24cb-f735-4a7c-e824-357c897b65e8"
      },
      "source": [
        "choice = int(input(\"Enter your option :\"))\n",
        "if choice == 1:\n",
        "  print('**********************************')\n",
        "  print(\"Items available in Your_Market\")\n",
        "  \n",
        "  print('**********************************')\n",
        "  \n",
        "  print('Enter the Item_Id and Quantity of item to purchase:')\n",
        "  pur={}\n",
        "  for i in range (0,5):\n",
        "    n=input()\n",
        "    m=n.split(' ')\n",
        "    pur[m[0]] = int(m[1])\n",
        "\n",
        "\n",
        "\n",
        "if choice == 2:\n",
        "  print(\"Buy the items of your choice\")\n",
        "\n",
        "  amount=0\n",
        "  for i in pur:    \n",
        "    if(i in Data.keys()):\n",
        "        print('You ordered {} {}'.format(pur[i],Data[i]['Name']))\n",
        "        print('Cost {} '.format(pur[i]*Data[i]['Price']))\n",
        "        amount+=pur[i]*Data[i]['Price']\n",
        "  print('Total bill : ',amount)\n",
        "\n",
        "  total={}\n",
        "  s=1\n",
        "  for i in pur:\n",
        "    if(i in Data.keys()):\n",
        "        sys={}\n",
        "        sys['item'] = Data[i]['Name']\n",
        "        sys['quantity'] = pur[i]\n",
        "        sys['Price'] = Data[i]['Price']\n",
        "        sys['SP'] = Data[i]['Price']*(1.0 - Data[i]['discount']/100.0)\n",
        "        sys['total'] = sys['SP']*pur[i]\n",
        "        total[s] = sys\n",
        "        s+=1\n",
        "  print(total)\n",
        "if choice == 3 :\n",
        "  print(\"Exit\")"
      ],
      "execution_count": 19,
      "outputs": [
        {
          "output_type": "stream",
          "name": "stdout",
          "text": [
            "Enter your option :2\n",
            "Buy the items of your choice\n",
            "You ordered 10 Torch\n",
            "Cost 500.0 \n",
            "You ordered 9 Sprits\n",
            "Cost 801.0 \n",
            "You ordered 7 Comb\n",
            "Cost 203.0 \n",
            "You ordered 8 Coffee\n",
            "Cost 552.0 \n",
            "You ordered 2 Stove\n",
            "Cost 1998.0 \n",
            "Total bill :  4054.0\n",
            "{1: {'item': 'Torch', 'quantity': 10, 'Price': 50.0, 'SP': 47.5, 'total': 475.0}, 2: {'item': 'Sprits', 'quantity': 9, 'Price': 89.0, 'SP': 82.77, 'total': 744.93}, 3: {'item': 'Comb', 'quantity': 7, 'Price': 29.0, 'SP': 29.0, 'total': 203.0}, 4: {'item': 'Coffee', 'quantity': 8, 'Price': 69.0, 'SP': 65.55, 'total': 524.4}, 5: {'item': 'Stove', 'quantity': 2, 'Price': 999.0, 'SP': 749.25, 'total': 1498.5}}\n"
          ]
        }
      ]
    },
    {
      "cell_type": "code",
      "metadata": {
        "id": "EPMVmMIntwXM"
      },
      "source": [
        "js = json.dumps(total)\n",
        "\n",
        "fd = open(\"sales.json\",'w')\n",
        "\n",
        "fd.write(js)\n",
        "\n",
        "fd.close()"
      ],
      "execution_count": 20,
      "outputs": []
    },
    {
      "cell_type": "code",
      "metadata": {
        "id": "pR40k2PSt7_R"
      },
      "source": [
        "fd = open(\"sales.json\", 'r')\n",
        "t = fd.read()\n",
        "fd.close()"
      ],
      "execution_count": 21,
      "outputs": []
    },
    {
      "cell_type": "code",
      "metadata": {
        "id": "n2n3Wqu4uAkv"
      },
      "source": [
        "js = json.dumps(total)\n",
        "\n",
        "fd = open(\"sales.txt\",'w')\n",
        "\n",
        "fd.write(js)\n",
        "\n",
        "fd.close()"
      ],
      "execution_count": 22,
      "outputs": []
    },
    {
      "cell_type": "code",
      "metadata": {
        "id": "ExH0QHt3uDWb"
      },
      "source": [
        "fd = open(\"sales.txt\", 'r')\n",
        "t = fd.read()\n",
        "fd.close()"
      ],
      "execution_count": 23,
      "outputs": []
    },
    {
      "cell_type": "code",
      "metadata": {
        "colab": {
          "base_uri": "https://localhost:8080/",
          "height": 69
        },
        "id": "En8mLqBiuGSf",
        "outputId": "038ac76d-208a-469d-a4af-c26c64d758ab"
      },
      "source": [
        "t"
      ],
      "execution_count": 24,
      "outputs": [
        {
          "output_type": "execute_result",
          "data": {
            "application/vnd.google.colaboratory.intrinsic+json": {
              "type": "string"
            },
            "text/plain": [
              "'{\"1\": {\"item\": \"Torch\", \"quantity\": 10, \"Price\": 50.0, \"SP\": 47.5, \"total\": 475.0}, \"2\": {\"item\": \"Sprits\", \"quantity\": 9, \"Price\": 89.0, \"SP\": 82.77, \"total\": 744.93}, \"3\": {\"item\": \"Comb\", \"quantity\": 7, \"Price\": 29.0, \"SP\": 29.0, \"total\": 203.0}, \"4\": {\"item\": \"Coffee\", \"quantity\": 8, \"Price\": 69.0, \"SP\": 65.55, \"total\": 524.4}, \"5\": {\"item\": \"Stove\", \"quantity\": 2, \"Price\": 999.0, \"SP\": 749.25, \"total\": 1498.5}}'"
            ]
          },
          "metadata": {},
          "execution_count": 24
        }
      ]
    },
    {
      "cell_type": "code",
      "metadata": {
        "id": "iRT1RG5fuJDt"
      },
      "source": [
        "d = json.loads(t)"
      ],
      "execution_count": 25,
      "outputs": []
    },
    {
      "cell_type": "code",
      "metadata": {
        "colab": {
          "base_uri": "https://localhost:8080/"
        },
        "id": "ujjDALkquLup",
        "outputId": "b0656e26-2e81-4345-842d-cd234592b071"
      },
      "source": [
        "d"
      ],
      "execution_count": 26,
      "outputs": [
        {
          "output_type": "execute_result",
          "data": {
            "text/plain": [
              "{'1': {'Price': 50.0,\n",
              "  'SP': 47.5,\n",
              "  'item': 'Torch',\n",
              "  'quantity': 10,\n",
              "  'total': 475.0},\n",
              " '2': {'Price': 89.0,\n",
              "  'SP': 82.77,\n",
              "  'item': 'Sprits',\n",
              "  'quantity': 9,\n",
              "  'total': 744.93},\n",
              " '3': {'Price': 29.0,\n",
              "  'SP': 29.0,\n",
              "  'item': 'Comb',\n",
              "  'quantity': 7,\n",
              "  'total': 203.0},\n",
              " '4': {'Price': 69.0,\n",
              "  'SP': 65.55,\n",
              "  'item': 'Coffee',\n",
              "  'quantity': 8,\n",
              "  'total': 524.4},\n",
              " '5': {'Price': 999.0,\n",
              "  'SP': 749.25,\n",
              "  'item': 'Stove',\n",
              "  'quantity': 2,\n",
              "  'total': 1498.5}}"
            ]
          },
          "metadata": {},
          "execution_count": 26
        }
      ]
    },
    {
      "cell_type": "code",
      "metadata": {
        "id": "TtAfXCMLuMYd"
      },
      "source": [
        ""
      ],
      "execution_count": null,
      "outputs": []
    }
  ]
}